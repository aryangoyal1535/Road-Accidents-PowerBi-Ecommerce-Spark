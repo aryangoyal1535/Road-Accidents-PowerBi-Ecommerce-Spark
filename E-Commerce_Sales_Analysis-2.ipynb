{
 "cells": [
  {
   "cell_type": "code",
   "execution_count": 18,
   "metadata": {
    "application/vnd.databricks.v1+cell": {
     "cellMetadata": {
      "byteLimit": 2048000,
      "rowLimit": 10000
     },
     "inputWidgets": {},
     "nuid": "16d79e26-fff8-45cd-aa9b-0c556dde847c",
     "showTitle": true,
     "title": "Importing Libraries"
    }
   },
   "outputs": [],
   "source": [
    "import pyspark\n",
    "from pyspark.sql import SparkSession"
   ]
  },
  {
   "cell_type": "code",
   "execution_count": 19,
   "metadata": {
    "application/vnd.databricks.v1+cell": {
     "cellMetadata": {
      "byteLimit": 2048000,
      "rowLimit": 10000
     },
     "inputWidgets": {},
     "nuid": "402c24a7-901a-4229-9e84-b8f39842313e",
     "showTitle": true,
     "title": "Creating a Spark session"
    }
   },
   "outputs": [],
   "source": [
    "spark = SparkSession.builder.appName(\"Sales analysis\").getOrCreate()"
   ]
  },
  {
   "cell_type": "code",
   "execution_count": 20,
   "metadata": {
    "application/vnd.databricks.v1+cell": {
     "cellMetadata": {
      "byteLimit": 2048000,
      "rowLimit": 10000
     },
     "inputWidgets": {},
     "nuid": "c13bf97e-67af-4848-842e-cf123ce9c751",
     "showTitle": true,
     "title": "Loading the CSV file"
    }
   },
   "outputs": [
    {
     "data": {
      "text/plain": [
       "DataFrame[Order_Date: date, Time: timestamp, Aging: double, Customer_Id: int, Gender: string, Device_Type: string, Customer_Login_type: string, Product_Category: string, Product: string, Sales: double, Quantity: double, Discount: double, Profit: double, Shipping_Cost: double, Order_Priority: string, Payment_method: string]"
      ]
     },
     "metadata": {},
     "output_type": "display_data"
    },
    {
     "name": "stdout",
     "output_type": "stream",
     "text": [
      "+----------+-------------------+-----+-----------+------+-----------+-------------------+------------------+--------------------+-----+--------+--------+------+-------------+--------------+--------------+\n",
      "|Order_Date|               Time|Aging|Customer_Id|Gender|Device_Type|Customer_Login_type|  Product_Category|             Product|Sales|Quantity|Discount|Profit|Shipping_Cost|Order_Priority|Payment_method|\n",
      "+----------+-------------------+-----+-----------+------+-----------+-------------------+------------------+--------------------+-----+--------+--------+------+-------------+--------------+--------------+\n",
      "|2018-01-02|2024-03-21 10:56:33|  8.0|      37077|Female|        Web|             Member|Auto & Accessories|   Car Media Players|140.0|     1.0|     0.3|  46.0|          4.6|        Medium|   credit_card|\n",
      "|2018-07-24|2024-03-21 20:41:37|  2.0|      59173|Female|        Web|             Member|Auto & Accessories|        Car Speakers|211.0|     1.0|     0.3| 112.0|         11.2|        Medium|   credit_card|\n",
      "|2018-11-08|2024-03-21 08:38:49|  8.0|      41066|Female|        Web|             Member|Auto & Accessories|     Car Body Covers|117.0|     5.0|     0.1|  31.2|          3.1|      Critical|   credit_card|\n",
      "|2018-04-18|2024-03-21 19:28:06|  7.0|      50741|Female|        Web|             Member|Auto & Accessories|     Car & Bike Care|118.0|     1.0|     0.3|  26.2|          2.6|          High|   credit_card|\n",
      "|2018-08-13|2024-03-21 21:18:39|  9.0|      53639|Female|        Web|             Member|Auto & Accessories|                Tyre|250.0|     1.0|     0.3| 160.0|         16.0|      Critical|   credit_card|\n",
      "|2018-07-09|2024-03-21 21:57:05|  8.0|      39783|Female|        Web|             Member|Auto & Accessories|          Bike Tyres| 72.0|     1.0|     0.3|  24.0|          2.4|      Critical|   credit_card|\n",
      "|2018-05-16|2024-03-21 13:10:30|  1.0|      26767|Female|        Web|             Member|Auto & Accessories|             Car Mat| 54.0|     1.0|     0.3|  54.0|          5.4|          High|   credit_card|\n",
      "|2018-06-23|2024-03-21 18:29:09|  7.0|      20719|Female|        Web|             Member|Auto & Accessories|     Car Seat Covers|114.0|     5.0|     0.2|  22.6|          2.3|      Critical|   credit_card|\n",
      "|2018-07-29|2024-03-21 11:55:02|  7.0|      46947|Female|        Web|             Member|Auto & Accessories|Car Pillow & Neck...|231.0|     5.0|     0.3| 116.4|         11.6|      Critical|   credit_card|\n",
      "|2018-05-16|2024-03-21 19:41:10| 10.0|      31839|Female|        Web|             Member|Auto & Accessories|   Car Media Players|140.0|     1.0|     0.2|  54.4|          5.4|      Critical|   money_order|\n",
      "|2018-07-13|2024-03-21 19:58:11| 10.0|      22249|Female|        Web|             Member|Auto & Accessories|        Car Speakers|211.0|     4.0|     0.1| 122.6|         12.3|      Critical|   credit_card|\n",
      "|2018-10-07|2024-03-21 10:06:19|  1.0|      15109|Female|        Web|             Member|Auto & Accessories|     Car Body Covers|117.0|     4.0|     0.3|  18.3|          1.8|          High|   credit_card|\n",
      "|2018-07-25|2024-03-21 17:44:10|  7.0|      18622|Female|        Web|             Member|Auto & Accessories|     Car & Bike Care|118.0|     1.0|     0.2|  35.6|          3.6|      Critical|   credit_card|\n",
      "|2018-12-01|2024-03-21 14:14:28|  5.0|      56296|Female|        Web|             Member|Auto & Accessories|                Tyre|250.0|     1.0|     0.3| 140.0|         14.0|          High|   credit_card|\n",
      "|2018-10-07|2024-03-21 19:03:12|  9.0|      34138|Female|        Web|             Member|Auto & Accessories|          Bike Tyres| 72.0|     4.0|     0.1|  18.0|          1.8|        Medium|   credit_card|\n",
      "|2018-06-02|2024-03-21 19:00:43| 10.0|      51112|Female|        Web|             Member|Auto & Accessories|             Car Mat| 54.0|     1.0|     0.1|  27.0|          2.7|      Critical|   credit_card|\n",
      "|2018-03-26|2024-03-21 23:41:31|  4.0|      57057|Female|        Web|             Member|Auto & Accessories|     Car Seat Covers|114.0|     1.0|     0.3|  22.6|          2.3|          High|   credit_card|\n",
      "|2018-04-21|2024-03-21 00:03:41|  7.0|      50942|Female|        Web|             Member|Auto & Accessories|Car Pillow & Neck...|231.0|     5.0|     0.3|  93.3|          9.3|          High|   credit_card|\n",
      "|2018-01-26|2024-03-21 15:54:26|  7.0|      42384|Female|        Web|             Member|Auto & Accessories|   Car Media Players|140.0|     1.0|     0.3|  46.0|          4.6|      Critical|   credit_card|\n",
      "|2018-02-18|2024-03-21 14:31:30|  6.0|      26127|Female|        Web|             Member|Auto & Accessories|        Car Speakers|211.0|     1.0|     0.2| 122.6|         12.3|      Critical|   credit_card|\n",
      "+----------+-------------------+-----+-----------+------+-----------+-------------------+------------------+--------------------+-----+--------+--------+------+-------------+--------------+--------------+\n",
      "only showing top 20 rows\n",
      "\n"
     ]
    }
   ],
   "source": [
    "df = spark.read.load('C:/Users/Asus/OneDrive/Desktop/gitclone/E-commerce Dataset.csv',format = 'csv',header ='true',inferSchema = 'true')\n",
    "display(df) or df.show()"
   ]
  },
  {
   "cell_type": "code",
   "execution_count": 21,
   "metadata": {
    "application/vnd.databricks.v1+cell": {
     "cellMetadata": {
      "byteLimit": 2048000,
      "rowLimit": 10000
     },
     "inputWidgets": {},
     "nuid": "1c8244fc-3bce-48a6-ae41-f82d5c9ccfe7",
     "showTitle": false,
     "title": ""
    }
   },
   "outputs": [
    {
     "data": {
      "text/plain": [
       "51290"
      ]
     },
     "execution_count": 21,
     "metadata": {},
     "output_type": "execute_result"
    }
   ],
   "source": [
    "df.count()"
   ]
  },
  {
   "cell_type": "code",
   "execution_count": 22,
   "metadata": {
    "application/vnd.databricks.v1+cell": {
     "cellMetadata": {
      "byteLimit": 2048000,
      "rowLimit": 10000
     },
     "inputWidgets": {},
     "nuid": "c254199a-eca9-43ca-81d1-fe1f58487f0b",
     "showTitle": false,
     "title": ""
    }
   },
   "outputs": [
    {
     "name": "stdout",
     "output_type": "stream",
     "text": [
      "root\n",
      " |-- Order_Date: date (nullable = true)\n",
      " |-- Time: timestamp (nullable = true)\n",
      " |-- Aging: double (nullable = true)\n",
      " |-- Customer_Id: integer (nullable = true)\n",
      " |-- Gender: string (nullable = true)\n",
      " |-- Device_Type: string (nullable = true)\n",
      " |-- Customer_Login_type: string (nullable = true)\n",
      " |-- Product_Category: string (nullable = true)\n",
      " |-- Product: string (nullable = true)\n",
      " |-- Sales: double (nullable = true)\n",
      " |-- Quantity: double (nullable = true)\n",
      " |-- Discount: double (nullable = true)\n",
      " |-- Profit: double (nullable = true)\n",
      " |-- Shipping_Cost: double (nullable = true)\n",
      " |-- Order_Priority: string (nullable = true)\n",
      " |-- Payment_method: string (nullable = true)\n",
      "\n"
     ]
    }
   ],
   "source": [
    "df.printSchema()"
   ]
  },
  {
   "cell_type": "code",
   "execution_count": 23,
   "metadata": {
    "application/vnd.databricks.v1+cell": {
     "cellMetadata": {
      "byteLimit": 2048000,
      "rowLimit": 10000
     },
     "inputWidgets": {},
     "nuid": "4704dcea-6f9e-41e2-8b7c-4636a68f375a",
     "showTitle": false,
     "title": ""
    }
   },
   "outputs": [],
   "source": [
    "# Creating a temp table for using Sql queries\n",
    "df.createOrReplaceTempView(\"sales_data\")"
   ]
  },
  {
   "cell_type": "code",
   "execution_count": 24,
   "metadata": {
    "application/vnd.databricks.v1+cell": {
     "cellMetadata": {
      "byteLimit": 2048000,
      "rowLimit": 10000
     },
     "inputWidgets": {},
     "nuid": "3b0ce320-cc7f-4b82-ae53-96e2ac0ed322",
     "showTitle": true,
     "title": "E - Commerce sales analysis"
    }
   },
   "outputs": [
    {
     "name": "stdout",
     "output_type": "stream",
     "text": [
      "+-----------+----------+\n",
      "|Customer_Id|sum(Sales)|\n",
      "+-----------+----------+\n",
      "|      37251|     140.0|\n",
      "|      49855|     249.0|\n",
      "|      19204|     336.0|\n",
      "|      45011|     225.0|\n",
      "|      19553|     283.0|\n",
      "|      29285|     211.0|\n",
      "|      37307|     250.0|\n",
      "|      22346|     575.0|\n",
      "|      42834|     486.0|\n",
      "|      33868|     140.0|\n",
      "|      49308|      54.0|\n",
      "|      13832|     202.0|\n",
      "|      48398|     231.0|\n",
      "|      54264|     250.0|\n",
      "|      40383|     250.0|\n",
      "|      38723|     140.0|\n",
      "|      53691|     680.0|\n",
      "|      12940|      54.0|\n",
      "|      32592|      54.0|\n",
      "|      45307|     548.0|\n",
      "+-----------+----------+\n",
      "only showing top 20 rows\n",
      "\n"
     ]
    }
   ],
   "source": [
    "# 1. Customer Segmentation Categorizing customers based on their spendings\n",
    "\n",
    "customer_data = df.groupBy('Customer_Id').sum('Sales')\n",
    "# display(customer_data)\n",
    "customer_data.show()"
   ]
  },
  {
   "cell_type": "code",
   "execution_count": 25,
   "metadata": {
    "application/vnd.databricks.v1+cell": {
     "cellMetadata": {
      "byteLimit": 2048000,
      "rowLimit": 10000
     },
     "inputWidgets": {},
     "nuid": "bfc9a548-4c6c-4afd-bafa-e26bc4eca8bd",
     "showTitle": false,
     "title": ""
    }
   },
   "outputs": [],
   "source": [
    "from pyspark.sql.functions import when\n",
    "\n",
    "customer_data = customer_data.withColumn('Segment',when(customer_data['sum(Sales)'] > 500, 'First Class')\n",
    ".when((customer_data['sum(Sales)'] < 500) & (customer_data['sum(Sales)'] >= 300),'Second Class')\n",
    ".when(customer_data['sum(Sales)'] < 300,'Third Class')\n",
    ".otherwise('Unknown'))\n"
   ]
  },
  {
   "cell_type": "code",
   "execution_count": 26,
   "metadata": {
    "application/vnd.databricks.v1+cell": {
     "cellMetadata": {
      "byteLimit": 2048000,
      "rowLimit": 10000
     },
     "inputWidgets": {},
     "nuid": "12a077bf-208a-4813-bdb7-f44155e5b92c",
     "showTitle": false,
     "title": ""
    }
   },
   "outputs": [
    {
     "name": "stdout",
     "output_type": "stream",
     "text": [
      "+-----------+----------+-----------+\n",
      "|Customer_Id|sum(Sales)|    Segment|\n",
      "+-----------+----------+-----------+\n",
      "|      87989|     994.0|First Class|\n",
      "|      35324|     949.0|First Class|\n",
      "|      79016|     935.0|First Class|\n",
      "|      10436|     929.0|First Class|\n",
      "|      51093|     927.0|First Class|\n",
      "|      16997|     925.0|First Class|\n",
      "|      80884|     904.0|First Class|\n",
      "|      97843|     903.0|First Class|\n",
      "|      95831|     894.0|First Class|\n",
      "|      37805|     890.0|First Class|\n",
      "|      11050|     887.0|First Class|\n",
      "|      89861|     887.0|First Class|\n",
      "|      99254|     885.0|First Class|\n",
      "|      87539|     884.0|First Class|\n",
      "|      39084|     881.0|First Class|\n",
      "|      69462|     866.0|First Class|\n",
      "|      60059|     864.0|First Class|\n",
      "|      46082|     862.0|First Class|\n",
      "|      13590|     854.0|First Class|\n",
      "|      13264|     853.0|First Class|\n",
      "+-----------+----------+-----------+\n",
      "only showing top 20 rows\n",
      "\n"
     ]
    }
   ],
   "source": [
    "data = (customer_data.sort(customer_data['sum(Sales)'].desc()))\n",
    "data.show()"
   ]
  },
  {
   "cell_type": "code",
   "execution_count": 27,
   "metadata": {
    "application/vnd.databricks.v1+cell": {
     "cellMetadata": {
      "byteLimit": 2048000,
      "rowLimit": 10000
     },
     "inputWidgets": {},
     "nuid": "da903af2-a8d8-46ce-a5a5-de22c277b126",
     "showTitle": false,
     "title": ""
    }
   },
   "outputs": [
    {
     "name": "stdout",
     "output_type": "stream",
     "text": [
      "+-----------+-----------+\n",
      "|Order_month|Total_Sales|\n",
      "+-----------+-----------+\n",
      "|         11|   877881.0|\n",
      "|          5|   824502.0|\n",
      "|          7|   810205.0|\n",
      "|         12|   767147.0|\n",
      "|         10|   743387.0|\n",
      "|          9|   738303.0|\n",
      "|          8|   664495.0|\n",
      "|          6|   642555.0|\n",
      "|          4|   597312.0|\n",
      "|          3|   435502.0|\n",
      "|          1|   379627.0|\n",
      "|          2|   332495.0|\n",
      "+-----------+-----------+\n",
      "\n"
     ]
    }
   ],
   "source": [
    "# 2. monthly trend of sales  ( how much sales each month ?)\n",
    "\n",
    "data = (spark.sql('''select month(Order_Date) as Order_month, sum(Sales) as Total_Sales from sales_data\n",
    "             group by Order_month \n",
    "             order by Total_Sales desc'''))\n",
    "data.show()"
   ]
  },
  {
   "cell_type": "code",
   "execution_count": 28,
   "metadata": {
    "application/vnd.databricks.v1+cell": {
     "cellMetadata": {
      "byteLimit": 2048000,
      "rowLimit": 10000
     },
     "inputWidgets": {},
     "nuid": "1ef7a97c-1d8c-48f5-9736-5aa7058138b5",
     "showTitle": false,
     "title": ""
    }
   },
   "outputs": [
    {
     "name": "stdout",
     "output_type": "stream",
     "text": [
      "+---------+-----------+\n",
      "|Sale_Hour|Total_Sales|\n",
      "+---------+-----------+\n",
      "|       11|   522162.0|\n",
      "|       13|   517504.0|\n",
      "|       15|   517257.0|\n",
      "|       14|   516064.0|\n",
      "|       16|   514393.0|\n",
      "|       10|   498233.0|\n",
      "|       20|   493227.0|\n",
      "|       21|   488724.0|\n",
      "|       17|   476924.0|\n",
      "|       12|   463949.0|\n",
      "|       19|   459328.0|\n",
      "|       22|   458391.0|\n",
      "|       18|   445695.0|\n",
      "|        9|   374256.0|\n",
      "|       23|   327508.0|\n",
      "|        8|   236029.0|\n",
      "|        0|   190577.0|\n",
      "|        7|    97260.0|\n",
      "|        1|    89801.0|\n",
      "|        6|    37674.0|\n",
      "+---------+-----------+\n",
      "only showing top 20 rows\n",
      "\n"
     ]
    }
   ],
   "source": [
    "# 3. Hourly Sales Analysis Which hour has more number of sales? \n",
    "\n",
    "data = (spark.sql('''select hour(Time) as Sale_Hour, sum(Sales) as Total_Sales from sales_data \n",
    "             group by Sale_Hour \n",
    "             order by Total_Sales desc'''))\n",
    "data.show()\n"
   ]
  },
  {
   "cell_type": "code",
   "execution_count": 29,
   "metadata": {
    "application/vnd.databricks.v1+cell": {
     "cellMetadata": {
      "byteLimit": 2048000,
      "rowLimit": 10000
     },
     "inputWidgets": {},
     "nuid": "6b84ddfe-0a46-4fea-82e8-efc4d425c6d4",
     "showTitle": true,
     "title": "4. Product Based Analysis"
    }
   },
   "outputs": [
    {
     "name": "stdout",
     "output_type": "stream",
     "text": [
      "+------------------+-----------+\n",
      "|  Product_Category|Total_Sales|\n",
      "+------------------+-----------+\n",
      "|           Fashion|  4345914.0|\n",
      "|  Home & Furniture|  1975831.0|\n",
      "|Auto & Accessories|  1096928.0|\n",
      "|        Electronic|   394738.0|\n",
      "+------------------+-----------+\n",
      "\n"
     ]
    }
   ],
   "source": [
    "# i. Which category product has sold more?\n",
    "data = (spark.sql('''select Product_Category,sum(Sales) as Total_Sales from sales_data\n",
    "             group by Product_Category\n",
    "             order by Total_Sales desc'''))\n",
    "data.show()"
   ]
  },
  {
   "cell_type": "code",
   "execution_count": 30,
   "metadata": {
    "application/vnd.databricks.v1+cell": {
     "cellMetadata": {
      "byteLimit": 2048000,
      "rowLimit": 10000
     },
     "inputWidgets": {},
     "nuid": "f9a429ef-2125-437e-bb3b-48ab5b350d55",
     "showTitle": false,
     "title": ""
    }
   },
   "outputs": [
    {
     "name": "stdout",
     "output_type": "stream",
     "text": [
      "+------------+---------------+\n",
      "|     Product|number_of_sales|\n",
      "+------------+---------------+\n",
      "|  T - Shirts|           2332|\n",
      "|       Suits|           2332|\n",
      "|Fossil Watch|           2332|\n",
      "|      Shirts|           2332|\n",
      "|       Jeans|           2332|\n",
      "+------------+---------------+\n",
      "\n"
     ]
    }
   ],
   "source": [
    "# ii. Which product has sold more?\n",
    "data = (spark.sql('''select Product, count(Product) as number_of_sales from sales_data\n",
    "             group by Product\n",
    "             order by number_of_sales desc\n",
    "             limit 5'''))\n",
    "data.show()"
   ]
  },
  {
   "cell_type": "code",
   "execution_count": 31,
   "metadata": {
    "application/vnd.databricks.v1+cell": {
     "cellMetadata": {
      "byteLimit": 2048000,
      "rowLimit": 10000
     },
     "inputWidgets": {},
     "nuid": "54b897c9-99b8-42b9-b863-16da8521cb14",
     "showTitle": true,
     "title": "5. Payment Preference "
    }
   },
   "outputs": [
    {
     "name": "stdout",
     "output_type": "stream",
     "text": [
      "+--------------+-----------------+\n",
      "|Payment_method|mostly_used_count|\n",
      "+--------------+-----------------+\n",
      "|   credit_card|            38137|\n",
      "|   money_order|             9629|\n",
      "|      e_wallet|             2789|\n",
      "|    debit_card|              734|\n",
      "|   not_defined|                1|\n",
      "+--------------+-----------------+\n",
      "\n"
     ]
    }
   ],
   "source": [
    "# i. What are the most commonly used payment types?\n",
    "data= (spark.sql('''select Payment_method, count(Payment_method) as mostly_used_count from sales_data\n",
    "          group by Payment_method\n",
    "          order by mostly_used_count desc'''))\n",
    "data.show()\n"
   ]
  }
 ],
 "metadata": {
  "application/vnd.databricks.v1+notebook": {
   "dashboards": [],
   "language": "python",
   "notebookMetadata": {
    "mostRecentlyExecutedCommandWithImplicitDF": {
     "commandId": 2881365978639928,
     "dataframes": [
      "_sqldf"
     ]
    },
    "pythonIndentUnit": 4
   },
   "notebookName": "E-Commerce Sales Analysis",
   "widgets": {}
  },
  "kernelspec": {
   "display_name": "Python 3",
   "language": "python",
   "name": "python3"
  },
  "language_info": {
   "codemirror_mode": {
    "name": "ipython",
    "version": 3
   },
   "file_extension": ".py",
   "mimetype": "text/x-python",
   "name": "python",
   "nbconvert_exporter": "python",
   "pygments_lexer": "ipython3",
   "version": "3.12.2"
  }
 },
 "nbformat": 4,
 "nbformat_minor": 0
}
