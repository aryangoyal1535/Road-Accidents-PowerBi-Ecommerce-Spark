{
 "cells": [
  {
   "cell_type": "code",
   "execution_count": 11,
   "metadata": {
    "application/vnd.databricks.v1+cell": {
     "cellMetadata": {
      "byteLimit": 2048000,
      "rowLimit": 10000
     },
     "inputWidgets": {},
     "nuid": "16d79e26-fff8-45cd-aa9b-0c556dde847c",
     "showTitle": true,
     "title": "Importing Libraries"
    },
    "scrolled": false
   },
   "outputs": [],
   "source": [
    "import pyspark\n",
    "import pandas as pd\n",
    "import matplotlib.pyplot as plt\n",
    "import seaborn as sns\n",
    "from pyspark.sql import SparkSession"
   ]
  },
  {
   "cell_type": "code",
   "execution_count": 12,
   "metadata": {
    "application/vnd.databricks.v1+cell": {
     "cellMetadata": {
      "byteLimit": 2048000,
      "rowLimit": 10000
     },
     "inputWidgets": {},
     "nuid": "402c24a7-901a-4229-9e84-b8f39842313e",
     "showTitle": true,
     "title": "Creating a Spark session"
    }
   },
   "outputs": [],
   "source": [
    "spark = SparkSession.builder.appName(\"Sales analysis\").getOrCreate()"
   ]
  },
  {
   "cell_type": "code",
   "execution_count": 13,
   "metadata": {
    "application/vnd.databricks.v1+cell": {
     "cellMetadata": {
      "byteLimit": 2048000,
      "rowLimit": 10000
     },
     "inputWidgets": {},
     "nuid": "c13bf97e-67af-4848-842e-cf123ce9c751",
     "showTitle": true,
     "title": "Loading the CSV file"
    }
   },
   "outputs": [
    {
     "data": {
      "text/plain": [
       "Row(Order_Date=datetime.date(2018, 1, 2), Time=datetime.datetime(2024, 3, 30, 10, 56, 33), Aging=8.0, Customer_Id=37077, Gender='Female', Device_Type='Web', Customer_Login_type='Member', Product_Category='Auto & Accessories', Product='Car Media Players', Sales=140.0, Quantity=1.0, Discount=0.3, Profit=46.0, Shipping_Cost=4.6, Order_Priority='Medium', Payment_method='credit_card')"
      ]
     },
     "execution_count": 13,
     "metadata": {},
     "output_type": "execute_result"
    }
   ],
   "source": [
    "df = spark.read.load('C:\\\\Users\\\\pc\\\\Downloads\\\\archive\\\\E-commerce Dataset.csv',format = 'csv',header ='true',inferSchema = 'true')\n",
    "df.head()"
   ]
  },
  {
   "cell_type": "code",
   "execution_count": 14,
   "metadata": {
    "application/vnd.databricks.v1+cell": {
     "cellMetadata": {
      "byteLimit": 2048000,
      "rowLimit": 10000
     },
     "inputWidgets": {},
     "nuid": "1c8244fc-3bce-48a6-ae41-f82d5c9ccfe7",
     "showTitle": false,
     "title": ""
    }
   },
   "outputs": [
    {
     "data": {
      "text/plain": [
       "51290"
      ]
     },
     "execution_count": 14,
     "metadata": {},
     "output_type": "execute_result"
    }
   ],
   "source": [
    "df.count()"
   ]
  },
  {
   "cell_type": "code",
   "execution_count": 15,
   "metadata": {
    "application/vnd.databricks.v1+cell": {
     "cellMetadata": {
      "byteLimit": 2048000,
      "rowLimit": 10000
     },
     "inputWidgets": {},
     "nuid": "c254199a-eca9-43ca-81d1-fe1f58487f0b",
     "showTitle": false,
     "title": ""
    }
   },
   "outputs": [
    {
     "name": "stdout",
     "output_type": "stream",
     "text": [
      "root\n",
      " |-- Order_Date: date (nullable = true)\n",
      " |-- Time: timestamp (nullable = true)\n",
      " |-- Aging: double (nullable = true)\n",
      " |-- Customer_Id: integer (nullable = true)\n",
      " |-- Gender: string (nullable = true)\n",
      " |-- Device_Type: string (nullable = true)\n",
      " |-- Customer_Login_type: string (nullable = true)\n",
      " |-- Product_Category: string (nullable = true)\n",
      " |-- Product: string (nullable = true)\n",
      " |-- Sales: double (nullable = true)\n",
      " |-- Quantity: double (nullable = true)\n",
      " |-- Discount: double (nullable = true)\n",
      " |-- Profit: double (nullable = true)\n",
      " |-- Shipping_Cost: double (nullable = true)\n",
      " |-- Order_Priority: string (nullable = true)\n",
      " |-- Payment_method: string (nullable = true)\n",
      "\n"
     ]
    }
   ],
   "source": [
    "df.printSchema()"
   ]
  },
  {
   "cell_type": "code",
   "execution_count": 16,
   "metadata": {
    "application/vnd.databricks.v1+cell": {
     "cellMetadata": {
      "byteLimit": 2048000,
      "rowLimit": 10000
     },
     "inputWidgets": {},
     "nuid": "4704dcea-6f9e-41e2-8b7c-4636a68f375a",
     "showTitle": false,
     "title": ""
    }
   },
   "outputs": [],
   "source": [
    "# Creating a temp table for using Sql queries\n",
    "df.createOrReplaceTempView(\"sales_data\")"
   ]
  },
  {
   "cell_type": "code",
   "execution_count": 17,
   "metadata": {
    "scrolled": true
   },
   "outputs": [
    {
     "name": "stdout",
     "output_type": "stream",
     "text": [
      "+----------+-------------------+-----+-----------+------+-----------+-------------------+------------------+--------------------+-----+--------+--------+------+-------------+--------------+--------------+\n",
      "|Order_Date|               Time|Aging|Customer_Id|Gender|Device_Type|Customer_Login_type|  Product_Category|             Product|Sales|Quantity|Discount|Profit|Shipping_Cost|Order_Priority|Payment_method|\n",
      "+----------+-------------------+-----+-----------+------+-----------+-------------------+------------------+--------------------+-----+--------+--------+------+-------------+--------------+--------------+\n",
      "|2018-01-02|2024-03-30 10:56:33|  8.0|      37077|Female|        Web|             Member|Auto & Accessories|   Car Media Players|140.0|     1.0|     0.3|  46.0|          4.6|        Medium|   credit_card|\n",
      "|2018-07-24|2024-03-30 20:41:37|  2.0|      59173|Female|        Web|             Member|Auto & Accessories|        Car Speakers|211.0|     1.0|     0.3| 112.0|         11.2|        Medium|   credit_card|\n",
      "|2018-11-08|2024-03-30 08:38:49|  8.0|      41066|Female|        Web|             Member|Auto & Accessories|     Car Body Covers|117.0|     5.0|     0.1|  31.2|          3.1|      Critical|   credit_card|\n",
      "|2018-04-18|2024-03-30 19:28:06|  7.0|      50741|Female|        Web|             Member|Auto & Accessories|     Car & Bike Care|118.0|     1.0|     0.3|  26.2|          2.6|          High|   credit_card|\n",
      "|2018-08-13|2024-03-30 21:18:39|  9.0|      53639|Female|        Web|             Member|Auto & Accessories|                Tyre|250.0|     1.0|     0.3| 160.0|         16.0|      Critical|   credit_card|\n",
      "|2018-07-09|2024-03-30 21:57:05|  8.0|      39783|Female|        Web|             Member|Auto & Accessories|          Bike Tyres| 72.0|     1.0|     0.3|  24.0|          2.4|      Critical|   credit_card|\n",
      "|2018-05-16|2024-03-30 13:10:30|  1.0|      26767|Female|        Web|             Member|Auto & Accessories|             Car Mat| 54.0|     1.0|     0.3|  54.0|          5.4|          High|   credit_card|\n",
      "|2018-06-23|2024-03-30 18:29:09|  7.0|      20719|Female|        Web|             Member|Auto & Accessories|     Car Seat Covers|114.0|     5.0|     0.2|  22.6|          2.3|      Critical|   credit_card|\n",
      "|2018-07-29|2024-03-30 11:55:02|  7.0|      46947|Female|        Web|             Member|Auto & Accessories|Car Pillow & Neck...|231.0|     5.0|     0.3| 116.4|         11.6|      Critical|   credit_card|\n",
      "|2018-05-16|2024-03-30 19:41:10| 10.0|      31839|Female|        Web|             Member|Auto & Accessories|   Car Media Players|140.0|     1.0|     0.2|  54.4|          5.4|      Critical|   money_order|\n",
      "|2018-07-13|2024-03-30 19:58:11| 10.0|      22249|Female|        Web|             Member|Auto & Accessories|        Car Speakers|211.0|     4.0|     0.1| 122.6|         12.3|      Critical|   credit_card|\n",
      "|2018-10-07|2024-03-30 10:06:19|  1.0|      15109|Female|        Web|             Member|Auto & Accessories|     Car Body Covers|117.0|     4.0|     0.3|  18.3|          1.8|          High|   credit_card|\n",
      "|2018-07-25|2024-03-30 17:44:10|  7.0|      18622|Female|        Web|             Member|Auto & Accessories|     Car & Bike Care|118.0|     1.0|     0.2|  35.6|          3.6|      Critical|   credit_card|\n",
      "|2018-12-01|2024-03-30 14:14:28|  5.0|      56296|Female|        Web|             Member|Auto & Accessories|                Tyre|250.0|     1.0|     0.3| 140.0|         14.0|          High|   credit_card|\n",
      "|2018-10-07|2024-03-30 19:03:12|  9.0|      34138|Female|        Web|             Member|Auto & Accessories|          Bike Tyres| 72.0|     4.0|     0.1|  18.0|          1.8|        Medium|   credit_card|\n",
      "|2018-06-02|2024-03-30 19:00:43| 10.0|      51112|Female|        Web|             Member|Auto & Accessories|             Car Mat| 54.0|     1.0|     0.1|  27.0|          2.7|      Critical|   credit_card|\n",
      "|2018-03-26|2024-03-30 23:41:31|  4.0|      57057|Female|        Web|             Member|Auto & Accessories|     Car Seat Covers|114.0|     1.0|     0.3|  22.6|          2.3|          High|   credit_card|\n",
      "|2018-04-21|2024-03-30 00:03:41|  7.0|      50942|Female|        Web|             Member|Auto & Accessories|Car Pillow & Neck...|231.0|     5.0|     0.3|  93.3|          9.3|          High|   credit_card|\n",
      "|2018-01-26|2024-03-30 15:54:26|  7.0|      42384|Female|        Web|             Member|Auto & Accessories|   Car Media Players|140.0|     1.0|     0.3|  46.0|          4.6|      Critical|   credit_card|\n",
      "|2018-02-18|2024-03-30 14:31:30|  6.0|      26127|Female|        Web|             Member|Auto & Accessories|        Car Speakers|211.0|     1.0|     0.2| 122.6|         12.3|      Critical|   credit_card|\n",
      "+----------+-------------------+-----+-----------+------+-----------+-------------------+------------------+--------------------+-----+--------+--------+------+-------------+--------------+--------------+\n",
      "only showing top 20 rows\n",
      "\n"
     ]
    }
   ],
   "source": [
    "spark.sql(\"SELECT * FROM sales_data\").show()"
   ]
  },
  {
   "cell_type": "code",
   "execution_count": 18,
   "metadata": {
    "application/vnd.databricks.v1+cell": {
     "cellMetadata": {
      "byteLimit": 2048000,
      "rowLimit": 10000
     },
     "inputWidgets": {},
     "nuid": "3b0ce320-cc7f-4b82-ae53-96e2ac0ed322",
     "showTitle": true,
     "title": "E - Commerce sales analysis"
    }
   },
   "outputs": [
    {
     "name": "stdout",
     "output_type": "stream",
     "text": [
      "+-----------+----------+\n",
      "|Customer_Id|sum(Sales)|\n",
      "+-----------+----------+\n",
      "|      37251|     140.0|\n",
      "|      49855|     249.0|\n",
      "|      19204|     336.0|\n",
      "|      45011|     225.0|\n",
      "|      19553|     283.0|\n",
      "|      29285|     211.0|\n",
      "|      37307|     250.0|\n",
      "|      22346|     575.0|\n",
      "|      42834|     486.0|\n",
      "|      33868|     140.0|\n",
      "|      49308|      54.0|\n",
      "|      13832|     202.0|\n",
      "|      48398|     231.0|\n",
      "|      54264|     250.0|\n",
      "|      40383|     250.0|\n",
      "|      38723|     140.0|\n",
      "|      53691|     680.0|\n",
      "|      12940|      54.0|\n",
      "|      32592|      54.0|\n",
      "|      45307|     548.0|\n",
      "+-----------+----------+\n",
      "only showing top 20 rows\n",
      "\n"
     ]
    }
   ],
   "source": [
    "# 1. Customer Segmentation Categorizing customers based on their spendings\n",
    "\n",
    "customer_data = df.groupBy('Customer_Id').sum('Sales')\n",
    "#display(customer_data)\n",
    "customer_data.show()"
   ]
  },
  {
   "cell_type": "code",
   "execution_count": 19,
   "metadata": {
    "application/vnd.databricks.v1+cell": {
     "cellMetadata": {
      "byteLimit": 2048000,
      "rowLimit": 10000
     },
     "inputWidgets": {},
     "nuid": "bfc9a548-4c6c-4afd-bafa-e26bc4eca8bd",
     "showTitle": false,
     "title": ""
    }
   },
   "outputs": [],
   "source": [
    "from pyspark.sql.functions import when\n",
    "\n",
    "customer_data = customer_data.withColumn('Segment',when(customer_data['sum(Sales)'] > 500, 'First Class')\n",
    ".when((customer_data['sum(Sales)'] < 500) & (customer_data['sum(Sales)'] >= 300),'Second Class')\n",
    ".when(customer_data['sum(Sales)'] < 300,'Third Class')\n",
    ".otherwise('Unknown'))\n"
   ]
  },
  {
   "cell_type": "code",
   "execution_count": 20,
   "metadata": {
    "application/vnd.databricks.v1+cell": {
     "cellMetadata": {
      "byteLimit": 2048000,
      "rowLimit": 10000
     },
     "inputWidgets": {},
     "nuid": "12a077bf-208a-4813-bdb7-f44155e5b92c",
     "showTitle": false,
     "title": ""
    }
   },
   "outputs": [
    {
     "data": {
      "text/plain": [
       "DataFrame[Customer_Id: int, sum(Sales): double, Segment: string]"
      ]
     },
     "metadata": {},
     "output_type": "display_data"
    }
   ],
   "source": [
    "display(customer_data.sort(customer_data['sum(Sales)'].desc()))"
   ]
  },
  {
   "cell_type": "code",
   "execution_count": 21,
   "metadata": {
    "application/vnd.databricks.v1+cell": {
     "cellMetadata": {
      "byteLimit": 2048000,
      "rowLimit": 10000
     },
     "inputWidgets": {},
     "nuid": "da903af2-a8d8-46ce-a5a5-de22c277b126",
     "showTitle": false,
     "title": ""
    }
   },
   "outputs": [
    {
     "name": "stdout",
     "output_type": "stream",
     "text": [
      "+-----------+-----------+\n",
      "|Order_month|Total_Sales|\n",
      "+-----------+-----------+\n",
      "|         11|   877881.0|\n",
      "|          5|   824502.0|\n",
      "|          7|   810205.0|\n",
      "|         12|   767147.0|\n",
      "|         10|   743387.0|\n",
      "|          9|   738303.0|\n",
      "|          8|   664495.0|\n",
      "|          6|   642555.0|\n",
      "|          4|   597312.0|\n",
      "|          3|   435502.0|\n",
      "|          1|   379627.0|\n",
      "|          2|   332495.0|\n",
      "+-----------+-----------+\n",
      "\n"
     ]
    }
   ],
   "source": [
    "# 2. monthly trend of sales  ( how much sales each month ?)\n",
    "\n",
    "#display(spark.sql('''select month(Order_Date) as Order_month, sum(Sales) as Total_Sales from sales_data\n",
    "             #group by Order_month \n",
    "             #order by Total_Sales desc'''))\n",
    "spark.sql(\"select month(Order_Date) as Order_month, sum(Sales) as Total_Sales from sales_data group by Order_month order by Total_Sales desc\").show()"
   ]
  },
  {
   "cell_type": "code",
   "execution_count": 22,
   "metadata": {
    "application/vnd.databricks.v1+cell": {
     "cellMetadata": {
      "byteLimit": 2048000,
      "rowLimit": 10000
     },
     "inputWidgets": {},
     "nuid": "1ef7a97c-1d8c-48f5-9736-5aa7058138b5",
     "showTitle": false,
     "title": ""
    }
   },
   "outputs": [
    {
     "data": {
      "text/plain": [
       "DataFrame[Sale_Hour: int, Total_Sales: double]"
      ]
     },
     "metadata": {},
     "output_type": "display_data"
    }
   ],
   "source": [
    "# 3. Hourly Sales Analysis Which hour has more number of sales? \n",
    "\n",
    "display(spark.sql('''select hour(Time) as Sale_Hour, sum(Sales) as Total_Sales from sales_data \n",
    "             group by Sale_Hour \n",
    "             order by Total_Sales desc'''))\n"
   ]
  },
  {
   "cell_type": "code",
   "execution_count": 23,
   "metadata": {
    "application/vnd.databricks.v1+cell": {
     "cellMetadata": {
      "byteLimit": 2048000,
      "rowLimit": 10000
     },
     "inputWidgets": {},
     "nuid": "6b84ddfe-0a46-4fea-82e8-efc4d425c6d4",
     "showTitle": true,
     "title": "4. Product Based Analysis"
    }
   },
   "outputs": [
    {
     "data": {
      "text/plain": [
       "DataFrame[Product_Category: string, Total_Sales: double]"
      ]
     },
     "metadata": {},
     "output_type": "display_data"
    }
   ],
   "source": [
    "# i. Which category product has sold more?\n",
    "display(spark.sql('''select Product_Category,sum(Sales) as Total_Sales from sales_data\n",
    "             group by Product_Category\n",
    "             order by Total_Sales desc'''))"
   ]
  },
  {
   "cell_type": "code",
   "execution_count": 24,
   "metadata": {
    "application/vnd.databricks.v1+cell": {
     "cellMetadata": {
      "byteLimit": 2048000,
      "rowLimit": 10000
     },
     "inputWidgets": {},
     "nuid": "f9a429ef-2125-437e-bb3b-48ab5b350d55",
     "showTitle": false,
     "title": ""
    }
   },
   "outputs": [
    {
     "data": {
      "text/plain": [
       "DataFrame[Product: string, number_of_sales: bigint]"
      ]
     },
     "metadata": {},
     "output_type": "display_data"
    }
   ],
   "source": [
    "# ii. Which product has sold more?\n",
    "display(spark.sql('''select Product, count(Product) as number_of_sales from sales_data\n",
    "             group by Product\n",
    "             order by number_of_sales desc\n",
    "             limit 5'''))"
   ]
  },
  {
   "cell_type": "code",
   "execution_count": 60,
   "metadata": {
    "application/vnd.databricks.v1+cell": {
     "cellMetadata": {
      "byteLimit": 2048000,
      "rowLimit": 10000
     },
     "inputWidgets": {},
     "nuid": "54b897c9-99b8-42b9-b863-16da8521cb14",
     "showTitle": true,
     "title": "5. Payment Preference "
    }
   },
   "outputs": [
    {
     "data": {
      "text/plain": [
       "DataFrame[Payment_method: string, mostly_used_count: bigint]"
      ]
     },
     "metadata": {},
     "output_type": "display_data"
    }
   ],
   "source": [
    "# i. What are the most commonly used payment types?\n",
    "display(spark.sql('''select Payment_method, count(Payment_method) as mostly_used_count from sales_data\n",
    "          group by Payment_method\n",
    "          order by mostly_used_count desc'''))\n"
   ]
  },
  {
   "cell_type": "code",
   "execution_count": null,
   "metadata": {
    "scrolled": false
   },
   "outputs": [],
   "source": []
  },
  {
   "cell_type": "code",
   "execution_count": null,
   "metadata": {},
   "outputs": [],
   "source": []
  }
 ],
 "metadata": {
  "application/vnd.databricks.v1+notebook": {
   "dashboards": [],
   "language": "python",
   "notebookMetadata": {
    "mostRecentlyExecutedCommandWithImplicitDF": {
     "commandId": 2881365978639928,
     "dataframes": [
      "_sqldf"
     ]
    },
    "pythonIndentUnit": 4
   },
   "notebookName": "E-Commerce Sales Analysis",
   "widgets": {}
  },
  "kernelspec": {
   "display_name": "Python 3",
   "language": "python",
   "name": "python3"
  },
  "language_info": {
   "codemirror_mode": {
    "name": "ipython",
    "version": 3
   },
   "file_extension": ".py",
   "mimetype": "text/x-python",
   "name": "python",
   "nbconvert_exporter": "python",
   "pygments_lexer": "ipython3",
   "version": "3.8.8"
  }
 },
 "nbformat": 4,
 "nbformat_minor": 1
}
